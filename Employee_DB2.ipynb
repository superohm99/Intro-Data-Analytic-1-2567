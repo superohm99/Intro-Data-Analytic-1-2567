{
  "nbformat": 4,
  "nbformat_minor": 0,
  "metadata": {
    "colab": {
      "provenance": []
    },
    "kernelspec": {
      "name": "python3",
      "display_name": "Python 3"
    },
    "language_info": {
      "name": "python"
    }
  },
  "cells": [
    {
      "cell_type": "code",
      "source": [
        "#@title Your Information\n",
        "\n",
        "full_name =  'thanasak songsri' #@param {type:\"string\"}\n",
        "student_id =  '65010429'  #@param {type:\"string\"}\n",
        "\n",
        "#@markdown ---\n"
      ],
      "metadata": {
        "id": "5QrdQE67RlK6"
      },
      "execution_count": null,
      "outputs": []
    },
    {
      "cell_type": "markdown",
      "source": [
        "# **Pandas Quiz Ep.2**\n",
        "> ## *Author* : [Rathachai CHAWUTHAI](https://rathachai.creatier.pro/) , Ph.D\n",
        "> ### *Affiliation* : Computer Engineering King Mongkut's Institute of Technology Ladkrabang \n",
        "> #### *Updated Date* : 2022-03-23\n",
        "---"
      ],
      "metadata": {
        "id": "5F6ZW_5cZM3R"
      }
    },
    {
      "cell_type": "markdown",
      "source": [
        "## Instruction\n",
        "\n",
        "Write Python code to answer each question. In general, it uses 1 line of code for each answer.\n",
        "\n",
        "## คำสั่ง\n",
        "\n",
        "จงเขียนโค้ดภาษาไพธอนเพื่อตอบคำถาม\n",
        "ซึ่งโดยทั่วไปคำตอบแต่ละข้อจะใช้เพียง 1 บรรทัดโค้ด"
      ],
      "metadata": {
        "id": "goXGOpuydAuy"
      }
    },
    {
      "cell_type": "markdown",
      "source": [
        "## Q0\n",
        "\n",
        "Import nessessary Libraries\n",
        "\n",
        "นำเข้า libraries ที่จำเป็น"
      ],
      "metadata": {
        "id": "1nHZEt9CbL9Y"
      }
    },
    {
      "cell_type": "code",
      "source": [
        "import pandas as pd"
      ],
      "metadata": {
        "id": "HVM32YATbXzB"
      },
      "execution_count": null,
      "outputs": []
    },
    {
      "cell_type": "markdown",
      "source": [
        "## Q1\n",
        "\n",
        "Read data from\n",
        "https://docs.google.com/spreadsheets/d/e/2PACX-1vRIFbIywXecgxN5c1sMn_KYWsARoXgp4paFxu4qndPaX_47vRaOdrqmiHjtNZ9ZYQcv3ubMSv8DA9ta/pub?gid=0&single=true&output=csv  \n",
        "\n",
        "into a dataframe named **df**\n",
        "\n",
        "จงอ่านข้อมูลจาก sheet จาก link ที่กำหนดเป็น Pandas Dataframe ชื่อ **df**"
      ],
      "metadata": {
        "id": "rQTNltWMZUlH"
      }
    },
    {
      "cell_type": "code",
      "execution_count": null,
      "metadata": {
        "id": "BReQIjQbYayg"
      },
      "outputs": [],
      "source": [
        "df = pd.read_csv(\"https://docs.google.com/spreadsheets/d/e/2PACX-1vRIFbIywXecgxN5c1sMn_KYWsARoXgp4paFxu4qndPaX_47vRaOdrqmiHjtNZ9ZYQcv3ubMSv8DA9ta/pub?gid=0&single=true&output=csv\")"
      ]
    },
    {
      "cell_type": "markdown",
      "source": [
        "## Q2\n",
        "\n",
        "List the top-3 tallest people\n",
        "\n",
        "เลือก 3 คนแรกที่สูงที่สุด"
      ],
      "metadata": {
        "id": "7WtLsq6rZadh"
      }
    },
    {
      "cell_type": "code",
      "source": [
        "df.sort_values(by='height', ascending=False).head(3)"
      ],
      "metadata": {
        "id": "_675OGuOZgGh",
        "colab": {
          "base_uri": "https://localhost:8080/",
          "height": 143
        },
        "outputId": "6848e509-e688-4058-c101-d379b9cdd437"
      },
      "execution_count": null,
      "outputs": [
        {
          "output_type": "execute_result",
          "data": {
            "text/plain": [
              "    eid     name gender department  age  height  weight   gpa   salary  \\\n",
              "7  E018    Harit   male     devops   32     180    67.5  3.45  67700.0   \n",
              "1  E012   Bordin   male  developer   25     179    78.4  2.39  48700.0   \n",
              "4  E015  Ekkasit   male  marketing   37     177    66.4  3.33  80500.0   \n",
              "\n",
              "   working_years  car_park birth_place  \n",
              "7              5      True     Bangkok  \n",
              "1              2      True      Phuket  \n",
              "4              7      True  Suphanburi  "
            ],
            "text/html": [
              "\n",
              "  <div id=\"df-26cbe7d7-1b26-4b36-8dc2-346d0eb44206\" class=\"colab-df-container\">\n",
              "    <div>\n",
              "<style scoped>\n",
              "    .dataframe tbody tr th:only-of-type {\n",
              "        vertical-align: middle;\n",
              "    }\n",
              "\n",
              "    .dataframe tbody tr th {\n",
              "        vertical-align: top;\n",
              "    }\n",
              "\n",
              "    .dataframe thead th {\n",
              "        text-align: right;\n",
              "    }\n",
              "</style>\n",
              "<table border=\"1\" class=\"dataframe\">\n",
              "  <thead>\n",
              "    <tr style=\"text-align: right;\">\n",
              "      <th></th>\n",
              "      <th>eid</th>\n",
              "      <th>name</th>\n",
              "      <th>gender</th>\n",
              "      <th>department</th>\n",
              "      <th>age</th>\n",
              "      <th>height</th>\n",
              "      <th>weight</th>\n",
              "      <th>gpa</th>\n",
              "      <th>salary</th>\n",
              "      <th>working_years</th>\n",
              "      <th>car_park</th>\n",
              "      <th>birth_place</th>\n",
              "    </tr>\n",
              "  </thead>\n",
              "  <tbody>\n",
              "    <tr>\n",
              "      <th>7</th>\n",
              "      <td>E018</td>\n",
              "      <td>Harit</td>\n",
              "      <td>male</td>\n",
              "      <td>devops</td>\n",
              "      <td>32</td>\n",
              "      <td>180</td>\n",
              "      <td>67.5</td>\n",
              "      <td>3.45</td>\n",
              "      <td>67700.0</td>\n",
              "      <td>5</td>\n",
              "      <td>True</td>\n",
              "      <td>Bangkok</td>\n",
              "    </tr>\n",
              "    <tr>\n",
              "      <th>1</th>\n",
              "      <td>E012</td>\n",
              "      <td>Bordin</td>\n",
              "      <td>male</td>\n",
              "      <td>developer</td>\n",
              "      <td>25</td>\n",
              "      <td>179</td>\n",
              "      <td>78.4</td>\n",
              "      <td>2.39</td>\n",
              "      <td>48700.0</td>\n",
              "      <td>2</td>\n",
              "      <td>True</td>\n",
              "      <td>Phuket</td>\n",
              "    </tr>\n",
              "    <tr>\n",
              "      <th>4</th>\n",
              "      <td>E015</td>\n",
              "      <td>Ekkasit</td>\n",
              "      <td>male</td>\n",
              "      <td>marketing</td>\n",
              "      <td>37</td>\n",
              "      <td>177</td>\n",
              "      <td>66.4</td>\n",
              "      <td>3.33</td>\n",
              "      <td>80500.0</td>\n",
              "      <td>7</td>\n",
              "      <td>True</td>\n",
              "      <td>Suphanburi</td>\n",
              "    </tr>\n",
              "  </tbody>\n",
              "</table>\n",
              "</div>\n",
              "    <div class=\"colab-df-buttons\">\n",
              "\n",
              "  <div class=\"colab-df-container\">\n",
              "    <button class=\"colab-df-convert\" onclick=\"convertToInteractive('df-26cbe7d7-1b26-4b36-8dc2-346d0eb44206')\"\n",
              "            title=\"Convert this dataframe to an interactive table.\"\n",
              "            style=\"display:none;\">\n",
              "\n",
              "  <svg xmlns=\"http://www.w3.org/2000/svg\" height=\"24px\" viewBox=\"0 -960 960 960\">\n",
              "    <path d=\"M120-120v-720h720v720H120Zm60-500h600v-160H180v160Zm220 220h160v-160H400v160Zm0 220h160v-160H400v160ZM180-400h160v-160H180v160Zm440 0h160v-160H620v160ZM180-180h160v-160H180v160Zm440 0h160v-160H620v160Z\"/>\n",
              "  </svg>\n",
              "    </button>\n",
              "\n",
              "  <style>\n",
              "    .colab-df-container {\n",
              "      display:flex;\n",
              "      gap: 12px;\n",
              "    }\n",
              "\n",
              "    .colab-df-convert {\n",
              "      background-color: #E8F0FE;\n",
              "      border: none;\n",
              "      border-radius: 50%;\n",
              "      cursor: pointer;\n",
              "      display: none;\n",
              "      fill: #1967D2;\n",
              "      height: 32px;\n",
              "      padding: 0 0 0 0;\n",
              "      width: 32px;\n",
              "    }\n",
              "\n",
              "    .colab-df-convert:hover {\n",
              "      background-color: #E2EBFA;\n",
              "      box-shadow: 0px 1px 2px rgba(60, 64, 67, 0.3), 0px 1px 3px 1px rgba(60, 64, 67, 0.15);\n",
              "      fill: #174EA6;\n",
              "    }\n",
              "\n",
              "    .colab-df-buttons div {\n",
              "      margin-bottom: 4px;\n",
              "    }\n",
              "\n",
              "    [theme=dark] .colab-df-convert {\n",
              "      background-color: #3B4455;\n",
              "      fill: #D2E3FC;\n",
              "    }\n",
              "\n",
              "    [theme=dark] .colab-df-convert:hover {\n",
              "      background-color: #434B5C;\n",
              "      box-shadow: 0px 1px 3px 1px rgba(0, 0, 0, 0.15);\n",
              "      filter: drop-shadow(0px 1px 2px rgba(0, 0, 0, 0.3));\n",
              "      fill: #FFFFFF;\n",
              "    }\n",
              "  </style>\n",
              "\n",
              "    <script>\n",
              "      const buttonEl =\n",
              "        document.querySelector('#df-26cbe7d7-1b26-4b36-8dc2-346d0eb44206 button.colab-df-convert');\n",
              "      buttonEl.style.display =\n",
              "        google.colab.kernel.accessAllowed ? 'block' : 'none';\n",
              "\n",
              "      async function convertToInteractive(key) {\n",
              "        const element = document.querySelector('#df-26cbe7d7-1b26-4b36-8dc2-346d0eb44206');\n",
              "        const dataTable =\n",
              "          await google.colab.kernel.invokeFunction('convertToInteractive',\n",
              "                                                    [key], {});\n",
              "        if (!dataTable) return;\n",
              "\n",
              "        const docLinkHtml = 'Like what you see? Visit the ' +\n",
              "          '<a target=\"_blank\" href=https://colab.research.google.com/notebooks/data_table.ipynb>data table notebook</a>'\n",
              "          + ' to learn more about interactive tables.';\n",
              "        element.innerHTML = '';\n",
              "        dataTable['output_type'] = 'display_data';\n",
              "        await google.colab.output.renderOutput(dataTable, element);\n",
              "        const docLink = document.createElement('div');\n",
              "        docLink.innerHTML = docLinkHtml;\n",
              "        element.appendChild(docLink);\n",
              "      }\n",
              "    </script>\n",
              "  </div>\n",
              "\n",
              "\n",
              "<div id=\"df-872606bf-1388-4ca2-ac70-90c306b79fb7\">\n",
              "  <button class=\"colab-df-quickchart\" onclick=\"quickchart('df-872606bf-1388-4ca2-ac70-90c306b79fb7')\"\n",
              "            title=\"Suggest charts\"\n",
              "            style=\"display:none;\">\n",
              "\n",
              "<svg xmlns=\"http://www.w3.org/2000/svg\" height=\"24px\"viewBox=\"0 0 24 24\"\n",
              "     width=\"24px\">\n",
              "    <g>\n",
              "        <path d=\"M19 3H5c-1.1 0-2 .9-2 2v14c0 1.1.9 2 2 2h14c1.1 0 2-.9 2-2V5c0-1.1-.9-2-2-2zM9 17H7v-7h2v7zm4 0h-2V7h2v10zm4 0h-2v-4h2v4z\"/>\n",
              "    </g>\n",
              "</svg>\n",
              "  </button>\n",
              "\n",
              "<style>\n",
              "  .colab-df-quickchart {\n",
              "      --bg-color: #E8F0FE;\n",
              "      --fill-color: #1967D2;\n",
              "      --hover-bg-color: #E2EBFA;\n",
              "      --hover-fill-color: #174EA6;\n",
              "      --disabled-fill-color: #AAA;\n",
              "      --disabled-bg-color: #DDD;\n",
              "  }\n",
              "\n",
              "  [theme=dark] .colab-df-quickchart {\n",
              "      --bg-color: #3B4455;\n",
              "      --fill-color: #D2E3FC;\n",
              "      --hover-bg-color: #434B5C;\n",
              "      --hover-fill-color: #FFFFFF;\n",
              "      --disabled-bg-color: #3B4455;\n",
              "      --disabled-fill-color: #666;\n",
              "  }\n",
              "\n",
              "  .colab-df-quickchart {\n",
              "    background-color: var(--bg-color);\n",
              "    border: none;\n",
              "    border-radius: 50%;\n",
              "    cursor: pointer;\n",
              "    display: none;\n",
              "    fill: var(--fill-color);\n",
              "    height: 32px;\n",
              "    padding: 0;\n",
              "    width: 32px;\n",
              "  }\n",
              "\n",
              "  .colab-df-quickchart:hover {\n",
              "    background-color: var(--hover-bg-color);\n",
              "    box-shadow: 0 1px 2px rgba(60, 64, 67, 0.3), 0 1px 3px 1px rgba(60, 64, 67, 0.15);\n",
              "    fill: var(--button-hover-fill-color);\n",
              "  }\n",
              "\n",
              "  .colab-df-quickchart-complete:disabled,\n",
              "  .colab-df-quickchart-complete:disabled:hover {\n",
              "    background-color: var(--disabled-bg-color);\n",
              "    fill: var(--disabled-fill-color);\n",
              "    box-shadow: none;\n",
              "  }\n",
              "\n",
              "  .colab-df-spinner {\n",
              "    border: 2px solid var(--fill-color);\n",
              "    border-color: transparent;\n",
              "    border-bottom-color: var(--fill-color);\n",
              "    animation:\n",
              "      spin 1s steps(1) infinite;\n",
              "  }\n",
              "\n",
              "  @keyframes spin {\n",
              "    0% {\n",
              "      border-color: transparent;\n",
              "      border-bottom-color: var(--fill-color);\n",
              "      border-left-color: var(--fill-color);\n",
              "    }\n",
              "    20% {\n",
              "      border-color: transparent;\n",
              "      border-left-color: var(--fill-color);\n",
              "      border-top-color: var(--fill-color);\n",
              "    }\n",
              "    30% {\n",
              "      border-color: transparent;\n",
              "      border-left-color: var(--fill-color);\n",
              "      border-top-color: var(--fill-color);\n",
              "      border-right-color: var(--fill-color);\n",
              "    }\n",
              "    40% {\n",
              "      border-color: transparent;\n",
              "      border-right-color: var(--fill-color);\n",
              "      border-top-color: var(--fill-color);\n",
              "    }\n",
              "    60% {\n",
              "      border-color: transparent;\n",
              "      border-right-color: var(--fill-color);\n",
              "    }\n",
              "    80% {\n",
              "      border-color: transparent;\n",
              "      border-right-color: var(--fill-color);\n",
              "      border-bottom-color: var(--fill-color);\n",
              "    }\n",
              "    90% {\n",
              "      border-color: transparent;\n",
              "      border-bottom-color: var(--fill-color);\n",
              "    }\n",
              "  }\n",
              "</style>\n",
              "\n",
              "  <script>\n",
              "    async function quickchart(key) {\n",
              "      const quickchartButtonEl =\n",
              "        document.querySelector('#' + key + ' button');\n",
              "      quickchartButtonEl.disabled = true;  // To prevent multiple clicks.\n",
              "      quickchartButtonEl.classList.add('colab-df-spinner');\n",
              "      try {\n",
              "        const charts = await google.colab.kernel.invokeFunction(\n",
              "            'suggestCharts', [key], {});\n",
              "      } catch (error) {\n",
              "        console.error('Error during call to suggestCharts:', error);\n",
              "      }\n",
              "      quickchartButtonEl.classList.remove('colab-df-spinner');\n",
              "      quickchartButtonEl.classList.add('colab-df-quickchart-complete');\n",
              "    }\n",
              "    (() => {\n",
              "      let quickchartButtonEl =\n",
              "        document.querySelector('#df-872606bf-1388-4ca2-ac70-90c306b79fb7 button');\n",
              "      quickchartButtonEl.style.display =\n",
              "        google.colab.kernel.accessAllowed ? 'block' : 'none';\n",
              "    })();\n",
              "  </script>\n",
              "</div>\n",
              "\n",
              "    </div>\n",
              "  </div>\n"
            ],
            "application/vnd.google.colaboratory.intrinsic+json": {
              "type": "dataframe",
              "summary": "{\n  \"name\": \"df\",\n  \"rows\": 3,\n  \"fields\": [\n    {\n      \"column\": \"eid\",\n      \"properties\": {\n        \"dtype\": \"string\",\n        \"num_unique_values\": 3,\n        \"samples\": [\n          \"E018\",\n          \"E012\",\n          \"E015\"\n        ],\n        \"semantic_type\": \"\",\n        \"description\": \"\"\n      }\n    },\n    {\n      \"column\": \"name\",\n      \"properties\": {\n        \"dtype\": \"string\",\n        \"num_unique_values\": 3,\n        \"samples\": [\n          \"Harit\",\n          \"Bordin\",\n          \"Ekkasit\"\n        ],\n        \"semantic_type\": \"\",\n        \"description\": \"\"\n      }\n    },\n    {\n      \"column\": \"gender\",\n      \"properties\": {\n        \"dtype\": \"category\",\n        \"num_unique_values\": 1,\n        \"samples\": [\n          \"male\"\n        ],\n        \"semantic_type\": \"\",\n        \"description\": \"\"\n      }\n    },\n    {\n      \"column\": \"department\",\n      \"properties\": {\n        \"dtype\": \"string\",\n        \"num_unique_values\": 3,\n        \"samples\": [\n          \"devops\"\n        ],\n        \"semantic_type\": \"\",\n        \"description\": \"\"\n      }\n    },\n    {\n      \"column\": \"age\",\n      \"properties\": {\n        \"dtype\": \"number\",\n        \"std\": 6,\n        \"min\": 25,\n        \"max\": 37,\n        \"num_unique_values\": 3,\n        \"samples\": [\n          32\n        ],\n        \"semantic_type\": \"\",\n        \"description\": \"\"\n      }\n    },\n    {\n      \"column\": \"height\",\n      \"properties\": {\n        \"dtype\": \"number\",\n        \"std\": 1,\n        \"min\": 177,\n        \"max\": 180,\n        \"num_unique_values\": 3,\n        \"samples\": [\n          180\n        ],\n        \"semantic_type\": \"\",\n        \"description\": \"\"\n      }\n    },\n    {\n      \"column\": \"weight\",\n      \"properties\": {\n        \"dtype\": \"number\",\n        \"std\": 6.633500835406094,\n        \"min\": 66.4,\n        \"max\": 78.4,\n        \"num_unique_values\": 3,\n        \"samples\": [\n          67.5\n        ],\n        \"semantic_type\": \"\",\n        \"description\": \"\"\n      }\n    },\n    {\n      \"column\": \"gpa\",\n      \"properties\": {\n        \"dtype\": \"number\",\n        \"std\": 0.5804595880277398,\n        \"min\": 2.39,\n        \"max\": 3.45,\n        \"num_unique_values\": 3,\n        \"samples\": [\n          3.45\n        ],\n        \"semantic_type\": \"\",\n        \"description\": \"\"\n      }\n    },\n    {\n      \"column\": \"salary\",\n      \"properties\": {\n        \"dtype\": \"number\",\n        \"std\": 16000.41666124146,\n        \"min\": 48700.0,\n        \"max\": 80500.0,\n        \"num_unique_values\": 3,\n        \"samples\": [\n          67700.0\n        ],\n        \"semantic_type\": \"\",\n        \"description\": \"\"\n      }\n    },\n    {\n      \"column\": \"working_years\",\n      \"properties\": {\n        \"dtype\": \"number\",\n        \"std\": 2,\n        \"min\": 2,\n        \"max\": 7,\n        \"num_unique_values\": 3,\n        \"samples\": [\n          5\n        ],\n        \"semantic_type\": \"\",\n        \"description\": \"\"\n      }\n    },\n    {\n      \"column\": \"car_park\",\n      \"properties\": {\n        \"dtype\": \"boolean\",\n        \"num_unique_values\": 1,\n        \"samples\": [\n          true\n        ],\n        \"semantic_type\": \"\",\n        \"description\": \"\"\n      }\n    },\n    {\n      \"column\": \"birth_place\",\n      \"properties\": {\n        \"dtype\": \"string\",\n        \"num_unique_values\": 3,\n        \"samples\": [\n          \"Bangkok\"\n        ],\n        \"semantic_type\": \"\",\n        \"description\": \"\"\n      }\n    }\n  ]\n}"
            }
          },
          "metadata": {},
          "execution_count": 5
        }
      ]
    },
    {
      "cell_type": "markdown",
      "source": [
        "## Q3\n",
        "\n",
        "The metric BMI formula = Weight (kg) ÷ Height (Metres)².\n",
        "Create a new columns named \"bmi\" with the bmi value\n",
        "\n",
        "\n",
        "คำนวณค่า BMI จากสมการ นำ้หนัก (kg) ÷ ส่วนสูง (Metres)²\n",
        "แล้วสร้างคอลัมน์ใหม่ ชื่อ \"bmi\" สำหรับค่าที่คำนวณนี้"
      ],
      "metadata": {
        "id": "eIsEIM72ZgRG"
      }
    },
    {
      "cell_type": "code",
      "source": [
        "df['bmi'] = df['weight'] / ((df['height']/100) ** 2)\n",
        "df['bmi']"
      ],
      "metadata": {
        "id": "EAxTPwFrZoaL",
        "colab": {
          "base_uri": "https://localhost:8080/"
        },
        "outputId": "6552b5bd-96cd-4a90-c3f0-c71e2211fcd8"
      },
      "execution_count": null,
      "outputs": [
        {
          "output_type": "execute_result",
          "data": {
            "text/plain": [
              "0    19.523879\n",
              "1    24.468650\n",
              "2    24.007387\n",
              "3    28.040142\n",
              "4    21.194421\n",
              "5    31.065089\n",
              "6    22.759184\n",
              "7    20.833333\n",
              "Name: bmi, dtype: float64"
            ]
          },
          "metadata": {},
          "execution_count": 7
        }
      ]
    },
    {
      "cell_type": "markdown",
      "source": [
        "## Q4\n",
        "\n",
        "Change the salary of Ekkasit by increasing 10%.\n",
        "\n",
        "จงเพิ่มเงินเดือนของ Ekkasit ขึ้นอีก 10%"
      ],
      "metadata": {
        "id": "saM-6zAEZolT"
      }
    },
    {
      "cell_type": "code",
      "source": [
        "df.loc[df['name'] == 'Ekkasit', 'salary'] = df.loc[df['name'] == 'Ekkasit', 'salary'] * 1.10\n",
        "df.loc[df['name'] == 'Ekkasit', 'salary']"
      ],
      "metadata": {
        "id": "8SrGuODsZ6Q8",
        "colab": {
          "base_uri": "https://localhost:8080/"
        },
        "outputId": "92007f27-e6db-48f1-c48b-4e67d1ebcf43"
      },
      "execution_count": null,
      "outputs": [
        {
          "output_type": "execute_result",
          "data": {
            "text/plain": [
              "4    97405.0\n",
              "Name: salary, dtype: float64"
            ]
          },
          "metadata": {},
          "execution_count": 11
        }
      ]
    },
    {
      "cell_type": "markdown",
      "source": [
        "## Q5\n",
        "\n",
        "In crease the salary of people, who use the car park space (car_park=True) by 1000 THB.\n",
        "\n",
        "จงเพิ่มเงินเดือนให้กับผู้ที่ต้องใช้ที่จอดรถ (car_park=True) จำนวน 1000 บาท"
      ],
      "metadata": {
        "id": "TgvE_XQZZ6ei"
      }
    },
    {
      "cell_type": "code",
      "source": [
        "df.loc[df['car_park'] == True, 'salary'] = df.loc[df['car_park'] == True, 'salary'] + 1000\n",
        "df.loc[df['car_park'] == True, 'salary']"
      ],
      "metadata": {
        "id": "jNVN3FDMZ_EQ",
        "colab": {
          "base_uri": "https://localhost:8080/"
        },
        "outputId": "da173e67-c542-49ab-d7fe-6e8c5fb8b3ac"
      },
      "execution_count": null,
      "outputs": [
        {
          "output_type": "execute_result",
          "data": {
            "text/plain": [
              "0    65200.0\n",
              "1    49700.0\n",
              "4    98405.0\n",
              "7    68700.0\n",
              "Name: salary, dtype: float64"
            ]
          },
          "metadata": {},
          "execution_count": 12
        }
      ]
    },
    {
      "cell_type": "markdown",
      "source": [
        "## Q6\n",
        "\n",
        "Show the average GPA grouped by department.\n",
        "\n",
        "จงแสดงค่าเฉลี่ย GPA ตามแผนก"
      ],
      "metadata": {
        "id": "1oR9tKv2Z_RP"
      }
    },
    {
      "cell_type": "code",
      "source": [
        "\n",
        "df.groupby('department')['gpa'].mean()"
      ],
      "metadata": {
        "id": "wGt_3sOjaD_o",
        "colab": {
          "base_uri": "https://localhost:8080/"
        },
        "outputId": "9a459156-2390-4522-e769-d67df50dbd79"
      },
      "execution_count": null,
      "outputs": [
        {
          "output_type": "execute_result",
          "data": {
            "text/plain": [
              "department\n",
              "developer    2.810\n",
              "devops       3.450\n",
              "marketing    3.270\n",
              "support      2.815\n",
              "Name: gpa, dtype: float64"
            ]
          },
          "metadata": {},
          "execution_count": 13
        }
      ]
    },
    {
      "cell_type": "markdown",
      "source": [
        "## Q7\n",
        "\n",
        "Show the average age of female in each department.\n",
        "\n",
        "จงหาค่าเฉลี่ยอายุของผู้หญิงในแต่ละแผนก"
      ],
      "metadata": {
        "id": "WXMrER0-aEJ3"
      }
    },
    {
      "cell_type": "code",
      "source": [
        "df[df['gender'] == 'female'].groupby('department')['age'].mean()"
      ],
      "metadata": {
        "id": "7RCXhuNGaM-A",
        "colab": {
          "base_uri": "https://localhost:8080/"
        },
        "outputId": "4dab3c4a-7339-47b1-f558-147826b474df"
      },
      "execution_count": null,
      "outputs": [
        {
          "output_type": "execute_result",
          "data": {
            "text/plain": [
              "department\n",
              "developer    34.0\n",
              "marketing    39.0\n",
              "support      35.0\n",
              "Name: age, dtype: float64"
            ]
          },
          "metadata": {},
          "execution_count": 15
        }
      ]
    },
    {
      "cell_type": "markdown",
      "source": [
        "## Q8\n",
        "\n",
        "Show the average age, maximum GPA, minimum GPA, and number of people in each department.\n",
        "\n",
        "จงแสดง อายุเฉลี่ย, GPA สูงสุด, GPA ต่ำสุด, และจำนวนของพนักงาน ในแต่ละแผนก"
      ],
      "metadata": {
        "id": "Z3kR3IrQaNLo"
      }
    },
    {
      "cell_type": "code",
      "source": [
        "df.groupby('department').agg({'age': 'mean', 'gpa': ['max', 'min'], 'name': 'count'})\n"
      ],
      "metadata": {
        "id": "CvQ0yMfTaTXl",
        "colab": {
          "base_uri": "https://localhost:8080/",
          "height": 237
        },
        "outputId": "f60aa300-5a21-4778-87ab-8ce1d5631395"
      },
      "execution_count": null,
      "outputs": [
        {
          "output_type": "execute_result",
          "data": {
            "text/plain": [
              "             age   gpa        name\n",
              "            mean   max   min count\n",
              "department                        \n",
              "developer   31.0  3.02  2.39     3\n",
              "devops      32.0  3.45  3.45     1\n",
              "marketing   38.0  3.33  3.21     2\n",
              "support     30.5  3.25  2.38     2"
            ],
            "text/html": [
              "\n",
              "  <div id=\"df-e50b7432-3357-43fa-9333-11cfde3b1d8c\" class=\"colab-df-container\">\n",
              "    <div>\n",
              "<style scoped>\n",
              "    .dataframe tbody tr th:only-of-type {\n",
              "        vertical-align: middle;\n",
              "    }\n",
              "\n",
              "    .dataframe tbody tr th {\n",
              "        vertical-align: top;\n",
              "    }\n",
              "\n",
              "    .dataframe thead tr th {\n",
              "        text-align: left;\n",
              "    }\n",
              "\n",
              "    .dataframe thead tr:last-of-type th {\n",
              "        text-align: right;\n",
              "    }\n",
              "</style>\n",
              "<table border=\"1\" class=\"dataframe\">\n",
              "  <thead>\n",
              "    <tr>\n",
              "      <th></th>\n",
              "      <th>age</th>\n",
              "      <th colspan=\"2\" halign=\"left\">gpa</th>\n",
              "      <th>name</th>\n",
              "    </tr>\n",
              "    <tr>\n",
              "      <th></th>\n",
              "      <th>mean</th>\n",
              "      <th>max</th>\n",
              "      <th>min</th>\n",
              "      <th>count</th>\n",
              "    </tr>\n",
              "    <tr>\n",
              "      <th>department</th>\n",
              "      <th></th>\n",
              "      <th></th>\n",
              "      <th></th>\n",
              "      <th></th>\n",
              "    </tr>\n",
              "  </thead>\n",
              "  <tbody>\n",
              "    <tr>\n",
              "      <th>developer</th>\n",
              "      <td>31.0</td>\n",
              "      <td>3.02</td>\n",
              "      <td>2.39</td>\n",
              "      <td>3</td>\n",
              "    </tr>\n",
              "    <tr>\n",
              "      <th>devops</th>\n",
              "      <td>32.0</td>\n",
              "      <td>3.45</td>\n",
              "      <td>3.45</td>\n",
              "      <td>1</td>\n",
              "    </tr>\n",
              "    <tr>\n",
              "      <th>marketing</th>\n",
              "      <td>38.0</td>\n",
              "      <td>3.33</td>\n",
              "      <td>3.21</td>\n",
              "      <td>2</td>\n",
              "    </tr>\n",
              "    <tr>\n",
              "      <th>support</th>\n",
              "      <td>30.5</td>\n",
              "      <td>3.25</td>\n",
              "      <td>2.38</td>\n",
              "      <td>2</td>\n",
              "    </tr>\n",
              "  </tbody>\n",
              "</table>\n",
              "</div>\n",
              "    <div class=\"colab-df-buttons\">\n",
              "\n",
              "  <div class=\"colab-df-container\">\n",
              "    <button class=\"colab-df-convert\" onclick=\"convertToInteractive('df-e50b7432-3357-43fa-9333-11cfde3b1d8c')\"\n",
              "            title=\"Convert this dataframe to an interactive table.\"\n",
              "            style=\"display:none;\">\n",
              "\n",
              "  <svg xmlns=\"http://www.w3.org/2000/svg\" height=\"24px\" viewBox=\"0 -960 960 960\">\n",
              "    <path d=\"M120-120v-720h720v720H120Zm60-500h600v-160H180v160Zm220 220h160v-160H400v160Zm0 220h160v-160H400v160ZM180-400h160v-160H180v160Zm440 0h160v-160H620v160ZM180-180h160v-160H180v160Zm440 0h160v-160H620v160Z\"/>\n",
              "  </svg>\n",
              "    </button>\n",
              "\n",
              "  <style>\n",
              "    .colab-df-container {\n",
              "      display:flex;\n",
              "      gap: 12px;\n",
              "    }\n",
              "\n",
              "    .colab-df-convert {\n",
              "      background-color: #E8F0FE;\n",
              "      border: none;\n",
              "      border-radius: 50%;\n",
              "      cursor: pointer;\n",
              "      display: none;\n",
              "      fill: #1967D2;\n",
              "      height: 32px;\n",
              "      padding: 0 0 0 0;\n",
              "      width: 32px;\n",
              "    }\n",
              "\n",
              "    .colab-df-convert:hover {\n",
              "      background-color: #E2EBFA;\n",
              "      box-shadow: 0px 1px 2px rgba(60, 64, 67, 0.3), 0px 1px 3px 1px rgba(60, 64, 67, 0.15);\n",
              "      fill: #174EA6;\n",
              "    }\n",
              "\n",
              "    .colab-df-buttons div {\n",
              "      margin-bottom: 4px;\n",
              "    }\n",
              "\n",
              "    [theme=dark] .colab-df-convert {\n",
              "      background-color: #3B4455;\n",
              "      fill: #D2E3FC;\n",
              "    }\n",
              "\n",
              "    [theme=dark] .colab-df-convert:hover {\n",
              "      background-color: #434B5C;\n",
              "      box-shadow: 0px 1px 3px 1px rgba(0, 0, 0, 0.15);\n",
              "      filter: drop-shadow(0px 1px 2px rgba(0, 0, 0, 0.3));\n",
              "      fill: #FFFFFF;\n",
              "    }\n",
              "  </style>\n",
              "\n",
              "    <script>\n",
              "      const buttonEl =\n",
              "        document.querySelector('#df-e50b7432-3357-43fa-9333-11cfde3b1d8c button.colab-df-convert');\n",
              "      buttonEl.style.display =\n",
              "        google.colab.kernel.accessAllowed ? 'block' : 'none';\n",
              "\n",
              "      async function convertToInteractive(key) {\n",
              "        const element = document.querySelector('#df-e50b7432-3357-43fa-9333-11cfde3b1d8c');\n",
              "        const dataTable =\n",
              "          await google.colab.kernel.invokeFunction('convertToInteractive',\n",
              "                                                    [key], {});\n",
              "        if (!dataTable) return;\n",
              "\n",
              "        const docLinkHtml = 'Like what you see? Visit the ' +\n",
              "          '<a target=\"_blank\" href=https://colab.research.google.com/notebooks/data_table.ipynb>data table notebook</a>'\n",
              "          + ' to learn more about interactive tables.';\n",
              "        element.innerHTML = '';\n",
              "        dataTable['output_type'] = 'display_data';\n",
              "        await google.colab.output.renderOutput(dataTable, element);\n",
              "        const docLink = document.createElement('div');\n",
              "        docLink.innerHTML = docLinkHtml;\n",
              "        element.appendChild(docLink);\n",
              "      }\n",
              "    </script>\n",
              "  </div>\n",
              "\n",
              "\n",
              "<div id=\"df-e0c7d5b6-eae1-4647-a2e9-09eca960424f\">\n",
              "  <button class=\"colab-df-quickchart\" onclick=\"quickchart('df-e0c7d5b6-eae1-4647-a2e9-09eca960424f')\"\n",
              "            title=\"Suggest charts\"\n",
              "            style=\"display:none;\">\n",
              "\n",
              "<svg xmlns=\"http://www.w3.org/2000/svg\" height=\"24px\"viewBox=\"0 0 24 24\"\n",
              "     width=\"24px\">\n",
              "    <g>\n",
              "        <path d=\"M19 3H5c-1.1 0-2 .9-2 2v14c0 1.1.9 2 2 2h14c1.1 0 2-.9 2-2V5c0-1.1-.9-2-2-2zM9 17H7v-7h2v7zm4 0h-2V7h2v10zm4 0h-2v-4h2v4z\"/>\n",
              "    </g>\n",
              "</svg>\n",
              "  </button>\n",
              "\n",
              "<style>\n",
              "  .colab-df-quickchart {\n",
              "      --bg-color: #E8F0FE;\n",
              "      --fill-color: #1967D2;\n",
              "      --hover-bg-color: #E2EBFA;\n",
              "      --hover-fill-color: #174EA6;\n",
              "      --disabled-fill-color: #AAA;\n",
              "      --disabled-bg-color: #DDD;\n",
              "  }\n",
              "\n",
              "  [theme=dark] .colab-df-quickchart {\n",
              "      --bg-color: #3B4455;\n",
              "      --fill-color: #D2E3FC;\n",
              "      --hover-bg-color: #434B5C;\n",
              "      --hover-fill-color: #FFFFFF;\n",
              "      --disabled-bg-color: #3B4455;\n",
              "      --disabled-fill-color: #666;\n",
              "  }\n",
              "\n",
              "  .colab-df-quickchart {\n",
              "    background-color: var(--bg-color);\n",
              "    border: none;\n",
              "    border-radius: 50%;\n",
              "    cursor: pointer;\n",
              "    display: none;\n",
              "    fill: var(--fill-color);\n",
              "    height: 32px;\n",
              "    padding: 0;\n",
              "    width: 32px;\n",
              "  }\n",
              "\n",
              "  .colab-df-quickchart:hover {\n",
              "    background-color: var(--hover-bg-color);\n",
              "    box-shadow: 0 1px 2px rgba(60, 64, 67, 0.3), 0 1px 3px 1px rgba(60, 64, 67, 0.15);\n",
              "    fill: var(--button-hover-fill-color);\n",
              "  }\n",
              "\n",
              "  .colab-df-quickchart-complete:disabled,\n",
              "  .colab-df-quickchart-complete:disabled:hover {\n",
              "    background-color: var(--disabled-bg-color);\n",
              "    fill: var(--disabled-fill-color);\n",
              "    box-shadow: none;\n",
              "  }\n",
              "\n",
              "  .colab-df-spinner {\n",
              "    border: 2px solid var(--fill-color);\n",
              "    border-color: transparent;\n",
              "    border-bottom-color: var(--fill-color);\n",
              "    animation:\n",
              "      spin 1s steps(1) infinite;\n",
              "  }\n",
              "\n",
              "  @keyframes spin {\n",
              "    0% {\n",
              "      border-color: transparent;\n",
              "      border-bottom-color: var(--fill-color);\n",
              "      border-left-color: var(--fill-color);\n",
              "    }\n",
              "    20% {\n",
              "      border-color: transparent;\n",
              "      border-left-color: var(--fill-color);\n",
              "      border-top-color: var(--fill-color);\n",
              "    }\n",
              "    30% {\n",
              "      border-color: transparent;\n",
              "      border-left-color: var(--fill-color);\n",
              "      border-top-color: var(--fill-color);\n",
              "      border-right-color: var(--fill-color);\n",
              "    }\n",
              "    40% {\n",
              "      border-color: transparent;\n",
              "      border-right-color: var(--fill-color);\n",
              "      border-top-color: var(--fill-color);\n",
              "    }\n",
              "    60% {\n",
              "      border-color: transparent;\n",
              "      border-right-color: var(--fill-color);\n",
              "    }\n",
              "    80% {\n",
              "      border-color: transparent;\n",
              "      border-right-color: var(--fill-color);\n",
              "      border-bottom-color: var(--fill-color);\n",
              "    }\n",
              "    90% {\n",
              "      border-color: transparent;\n",
              "      border-bottom-color: var(--fill-color);\n",
              "    }\n",
              "  }\n",
              "</style>\n",
              "\n",
              "  <script>\n",
              "    async function quickchart(key) {\n",
              "      const quickchartButtonEl =\n",
              "        document.querySelector('#' + key + ' button');\n",
              "      quickchartButtonEl.disabled = true;  // To prevent multiple clicks.\n",
              "      quickchartButtonEl.classList.add('colab-df-spinner');\n",
              "      try {\n",
              "        const charts = await google.colab.kernel.invokeFunction(\n",
              "            'suggestCharts', [key], {});\n",
              "      } catch (error) {\n",
              "        console.error('Error during call to suggestCharts:', error);\n",
              "      }\n",
              "      quickchartButtonEl.classList.remove('colab-df-spinner');\n",
              "      quickchartButtonEl.classList.add('colab-df-quickchart-complete');\n",
              "    }\n",
              "    (() => {\n",
              "      let quickchartButtonEl =\n",
              "        document.querySelector('#df-e0c7d5b6-eae1-4647-a2e9-09eca960424f button');\n",
              "      quickchartButtonEl.style.display =\n",
              "        google.colab.kernel.accessAllowed ? 'block' : 'none';\n",
              "    })();\n",
              "  </script>\n",
              "</div>\n",
              "\n",
              "    </div>\n",
              "  </div>\n"
            ],
            "application/vnd.google.colaboratory.intrinsic+json": {
              "type": "dataframe",
              "summary": "{\n  \"name\": \"df\",\n  \"rows\": 4,\n  \"fields\": [\n    {\n      \"column\": [\n        \"department\",\n        \"\"\n      ],\n      \"properties\": {\n        \"dtype\": \"string\",\n        \"num_unique_values\": 4,\n        \"samples\": [\n          \"devops\",\n          \"support\",\n          \"developer\"\n        ],\n        \"semantic_type\": \"\",\n        \"description\": \"\"\n      }\n    },\n    {\n      \"column\": [\n        \"age\",\n        \"mean\"\n      ],\n      \"properties\": {\n        \"dtype\": \"number\",\n        \"std\": 3.473110997362451,\n        \"min\": 30.5,\n        \"max\": 38.0,\n        \"num_unique_values\": 4,\n        \"samples\": [\n          32.0,\n          30.5,\n          31.0\n        ],\n        \"semantic_type\": \"\",\n        \"description\": \"\"\n      }\n    },\n    {\n      \"column\": [\n        \"gpa\",\n        \"max\"\n      ],\n      \"properties\": {\n        \"dtype\": \"number\",\n        \"std\": 0.1813605984404184,\n        \"min\": 3.02,\n        \"max\": 3.45,\n        \"num_unique_values\": 4,\n        \"samples\": [\n          3.45,\n          3.25,\n          3.02\n        ],\n        \"semantic_type\": \"\",\n        \"description\": \"\"\n      }\n    },\n    {\n      \"column\": [\n        \"gpa\",\n        \"min\"\n      ],\n      \"properties\": {\n        \"dtype\": \"number\",\n        \"std\": 0.5543389456520863,\n        \"min\": 2.38,\n        \"max\": 3.45,\n        \"num_unique_values\": 4,\n        \"samples\": [\n          3.45,\n          2.38,\n          2.39\n        ],\n        \"semantic_type\": \"\",\n        \"description\": \"\"\n      }\n    },\n    {\n      \"column\": [\n        \"name\",\n        \"count\"\n      ],\n      \"properties\": {\n        \"dtype\": \"number\",\n        \"std\": 0,\n        \"min\": 1,\n        \"max\": 3,\n        \"num_unique_values\": 3,\n        \"samples\": [\n          3,\n          1,\n          2\n        ],\n        \"semantic_type\": \"\",\n        \"description\": \"\"\n      }\n    }\n  ]\n}"
            }
          },
          "metadata": {},
          "execution_count": 16
        }
      ]
    },
    {
      "cell_type": "markdown",
      "source": [
        "## Q9\n",
        "\n",
        "Create a new column named \"weight_lbs\", and\n",
        "use a lambda function to calculate the weight (in kg) into lbs.\n",
        "\n",
        "\n",
        "จำสร้างคอลัมน์ใหม่ชื่อ \"weight_lbs\" ทีใช้ lambda function เพื่อแปลงน้ำหนักจาก กิโลกรัม เป็นหน่วย ปอนด์\n"
      ],
      "metadata": {
        "id": "5aalK3dvaThC"
      }
    },
    {
      "cell_type": "code",
      "source": [
        "df['weight_lbs'] = df.apply(lambda row: row['weight'] * 2.205,axis=1)\n",
        "df['weight_lbs']"
      ],
      "metadata": {
        "id": "7M8TUM9NapCj",
        "colab": {
          "base_uri": "https://localhost:8080/"
        },
        "outputId": "7962a5b1-943f-4583-9a6d-805d3a47bd49"
      },
      "execution_count": null,
      "outputs": [
        {
          "output_type": "execute_result",
          "data": {
            "text/plain": [
              "0    118.6290\n",
              "1    172.8720\n",
              "2    154.7910\n",
              "3    146.6325\n",
              "4    146.4120\n",
              "5    166.6980\n",
              "6    153.6885\n",
              "7    148.8375\n",
              "Name: weight_lbs, dtype: float64"
            ]
          },
          "metadata": {},
          "execution_count": 20
        }
      ]
    },
    {
      "cell_type": "markdown",
      "source": [
        "## Q10\n",
        "\n",
        "Create a new column named \"bmi_lambda\", and use a lambda function to calculate the BMI.\n",
        "\n",
        "จงสร้างคอลัมน์ใหม่ชื่อ \"bmi_lambda\" โดยใช้ lambda function คำนวณค่า BMI"
      ],
      "metadata": {
        "id": "VBDFvF4GaYcK"
      }
    },
    {
      "cell_type": "code",
      "source": [
        "\n",
        "df['bmi_lambda'] = df.apply(lambda row: row['weight'] / ((row['height']/100) ** 2), axis=1)\n",
        "df['bmi_lambda']\n"
      ],
      "metadata": {
        "id": "OaaYw3ZIaku3",
        "colab": {
          "base_uri": "https://localhost:8080/"
        },
        "outputId": "5a65da95-7d61-4b79-f9d7-1ca88a03705d"
      },
      "execution_count": null,
      "outputs": [
        {
          "output_type": "execute_result",
          "data": {
            "text/plain": [
              "0    19.523879\n",
              "1    24.468650\n",
              "2    24.007387\n",
              "3    28.040142\n",
              "4    21.194421\n",
              "5    31.065089\n",
              "6    22.759184\n",
              "7    20.833333\n",
              "Name: bmi_lambda, dtype: float64"
            ]
          },
          "metadata": {},
          "execution_count": 18
        }
      ]
    },
    {
      "cell_type": "markdown",
      "source": [
        "\n",
        "\n",
        "---\n",
        "https://rathachai.creatier.pro/\n",
        "\n",
        "## つづく"
      ],
      "metadata": {
        "id": "jlUFscexatBo"
      }
    }
  ]
}
