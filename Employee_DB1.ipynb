{
  "cells": [
    {
      "cell_type": "code",
      "execution_count": null,
      "metadata": {
        "id": "lhyGDpu4ImNb"
      },
      "outputs": [],
      "source": [
        "#@title Your Information\n",
        "\n",
        "full_name =  '' #@param {type:\"string\"}\n",
        "student_id =  ''  #@param {type:\"string\"}\n",
        "\n",
        "#@markdown ---"
      ]
    },
    {
      "cell_type": "markdown",
      "metadata": {
        "id": "5F6ZW_5cZM3R"
      },
      "source": [
        "# **Pandas Quiz Ep1**\n",
        "> ## *Author* : [Rathachai CHAWUTHAI](https://rathachai.creatier.pro/) , Ph.D\n",
        "> ### *Affiliation* : Computer Engineering, King Mongkut's Institute of Technology Ladkrabang (KMITL)\n",
        "> #### *Updated Date* : 2022-03-23\n",
        "---"
      ]
    },
    {
      "cell_type": "markdown",
      "metadata": {
        "id": "goXGOpuydAuy"
      },
      "source": [
        "## Instruction\n",
        "\n",
        "Write Python code to answer each question. You must use 1 line of code for each answer.\n",
        "\n",
        "## คำสั่ง\n",
        "\n",
        "จงเขียนโค้ดภาษาไพธอนเพื่อตอบคำถาม\n",
        "โดยเขียนคำตอบด้วยโค้ด 1 บรรทัดโค้ดเท่านั้น"
      ]
    },
    {
      "cell_type": "markdown",
      "metadata": {
        "id": "1nHZEt9CbL9Y"
      },
      "source": [
        "## Q0\n",
        "\n",
        "Import nessessary Libraries\n",
        "\n",
        "นำเข้า libraries ที่จำเป็น"
      ]
    },
    {
      "cell_type": "code",
      "execution_count": null,
      "metadata": {
        "id": "HVM32YATbXzB"
      },
      "outputs": [],
      "source": []
    },
    {
      "cell_type": "markdown",
      "metadata": {
        "id": "rQTNltWMZUlH"
      },
      "source": [
        "## Q1\n",
        "\n",
        "Read data from\n",
        "https://docs.google.com/spreadsheets/d/e/2PACX-1vRIFbIywXecgxN5c1sMn_KYWsARoXgp4paFxu4qndPaX_47vRaOdrqmiHjtNZ9ZYQcv3ubMSv8DA9ta/pub?gid=0&single=true&output=csv  \n",
        "\n",
        "into a dataframe named **df**\n",
        "\n",
        "จงอ่านข้อมูลจาก sheet จาก link ที่กำหนดเป็น Pandas Dataframe ชื่อ **df**"
      ]
    },
    {
      "cell_type": "code",
      "execution_count": null,
      "metadata": {
        "id": "_675OGuOZgGh"
      },
      "outputs": [],
      "source": []
    },
    {
      "cell_type": "markdown",
      "metadata": {
        "id": "7WtLsq6rZadh"
      },
      "source": [
        "## Q2\n",
        "\n",
        "Display the whole dataframe.\n",
        "\n",
        "จงแสดงข้อมูลทั้งตาราง"
      ]
    },
    {
      "cell_type": "code",
      "execution_count": null,
      "metadata": {
        "colab": {
          "base_uri": "https://localhost:8080/",
          "height": 300
        },
        "id": "BReQIjQbYayg",
        "outputId": "228bdfe3-28db-473f-e8a7-32b6cd97c716"
      },
      "outputs": [
        {
          "data": {
            "text/html": [
              "\n",
              "  <div id=\"df-c67c258b-a7fb-4d45-a836-dbbb8f455403\">\n",
              "    <div class=\"colab-df-container\">\n",
              "      <div>\n",
              "<style scoped>\n",
              "    .dataframe tbody tr th:only-of-type {\n",
              "        vertical-align: middle;\n",
              "    }\n",
              "\n",
              "    .dataframe tbody tr th {\n",
              "        vertical-align: top;\n",
              "    }\n",
              "\n",
              "    .dataframe thead th {\n",
              "        text-align: right;\n",
              "    }\n",
              "</style>\n",
              "<table border=\"1\" class=\"dataframe\">\n",
              "  <thead>\n",
              "    <tr style=\"text-align: right;\">\n",
              "      <th></th>\n",
              "      <th>eid</th>\n",
              "      <th>name</th>\n",
              "      <th>gender</th>\n",
              "      <th>department</th>\n",
              "      <th>age</th>\n",
              "      <th>height</th>\n",
              "      <th>weight</th>\n",
              "      <th>gpa</th>\n",
              "      <th>salary</th>\n",
              "      <th>working_years</th>\n",
              "      <th>car_park</th>\n",
              "      <th>birth_place</th>\n",
              "    </tr>\n",
              "  </thead>\n",
              "  <tbody>\n",
              "    <tr>\n",
              "      <th>0</th>\n",
              "      <td>E011</td>\n",
              "      <td>Anda</td>\n",
              "      <td>female</td>\n",
              "      <td>developer</td>\n",
              "      <td>39</td>\n",
              "      <td>166</td>\n",
              "      <td>53.8</td>\n",
              "      <td>3.02</td>\n",
              "      <td>64200.0</td>\n",
              "      <td>4</td>\n",
              "      <td>True</td>\n",
              "      <td>Bangkok</td>\n",
              "    </tr>\n",
              "    <tr>\n",
              "      <th>1</th>\n",
              "      <td>E012</td>\n",
              "      <td>Bordin</td>\n",
              "      <td>male</td>\n",
              "      <td>developer</td>\n",
              "      <td>25</td>\n",
              "      <td>179</td>\n",
              "      <td>78.4</td>\n",
              "      <td>2.39</td>\n",
              "      <td>48700.0</td>\n",
              "      <td>2</td>\n",
              "      <td>True</td>\n",
              "      <td>Phuket</td>\n",
              "    </tr>\n",
              "    <tr>\n",
              "      <th>2</th>\n",
              "      <td>E013</td>\n",
              "      <td>Chantana</td>\n",
              "      <td>female</td>\n",
              "      <td>developer</td>\n",
              "      <td>29</td>\n",
              "      <td>171</td>\n",
              "      <td>70.2</td>\n",
              "      <td>3.02</td>\n",
              "      <td>45500.0</td>\n",
              "      <td>3</td>\n",
              "      <td>False</td>\n",
              "      <td>Chonburi</td>\n",
              "    </tr>\n",
              "    <tr>\n",
              "      <th>3</th>\n",
              "      <td>E014</td>\n",
              "      <td>Donlaya</td>\n",
              "      <td>female</td>\n",
              "      <td>marketing</td>\n",
              "      <td>39</td>\n",
              "      <td>154</td>\n",
              "      <td>66.5</td>\n",
              "      <td>3.21</td>\n",
              "      <td>72600.0</td>\n",
              "      <td>8</td>\n",
              "      <td>False</td>\n",
              "      <td>Chonburi</td>\n",
              "    </tr>\n",
              "    <tr>\n",
              "      <th>4</th>\n",
              "      <td>E015</td>\n",
              "      <td>Ekkasit</td>\n",
              "      <td>male</td>\n",
              "      <td>marketing</td>\n",
              "      <td>37</td>\n",
              "      <td>177</td>\n",
              "      <td>66.4</td>\n",
              "      <td>3.33</td>\n",
              "      <td>80500.0</td>\n",
              "      <td>7</td>\n",
              "      <td>True</td>\n",
              "      <td>Suphanburi</td>\n",
              "    </tr>\n",
              "    <tr>\n",
              "      <th>5</th>\n",
              "      <td>E016</td>\n",
              "      <td>Fundee</td>\n",
              "      <td>female</td>\n",
              "      <td>support</td>\n",
              "      <td>35</td>\n",
              "      <td>156</td>\n",
              "      <td>75.6</td>\n",
              "      <td>2.38</td>\n",
              "      <td>56600.0</td>\n",
              "      <td>3</td>\n",
              "      <td>False</td>\n",
              "      <td>Phuket</td>\n",
              "    </tr>\n",
              "    <tr>\n",
              "      <th>6</th>\n",
              "      <td>E017</td>\n",
              "      <td>Gitiwit</td>\n",
              "      <td>male</td>\n",
              "      <td>support</td>\n",
              "      <td>26</td>\n",
              "      <td>175</td>\n",
              "      <td>69.7</td>\n",
              "      <td>3.25</td>\n",
              "      <td>42400.0</td>\n",
              "      <td>2</td>\n",
              "      <td>False</td>\n",
              "      <td>Suphanburi</td>\n",
              "    </tr>\n",
              "    <tr>\n",
              "      <th>7</th>\n",
              "      <td>E018</td>\n",
              "      <td>Harit</td>\n",
              "      <td>male</td>\n",
              "      <td>devops</td>\n",
              "      <td>32</td>\n",
              "      <td>180</td>\n",
              "      <td>67.5</td>\n",
              "      <td>3.45</td>\n",
              "      <td>67700.0</td>\n",
              "      <td>5</td>\n",
              "      <td>True</td>\n",
              "      <td>Bangkok</td>\n",
              "    </tr>\n",
              "  </tbody>\n",
              "</table>\n",
              "</div>\n",
              "      <button class=\"colab-df-convert\" onclick=\"convertToInteractive('df-c67c258b-a7fb-4d45-a836-dbbb8f455403')\"\n",
              "              title=\"Convert this dataframe to an interactive table.\"\n",
              "              style=\"display:none;\">\n",
              "        \n",
              "  <svg xmlns=\"http://www.w3.org/2000/svg\" height=\"24px\"viewBox=\"0 0 24 24\"\n",
              "       width=\"24px\">\n",
              "    <path d=\"M0 0h24v24H0V0z\" fill=\"none\"/>\n",
              "    <path d=\"M18.56 5.44l.94 2.06.94-2.06 2.06-.94-2.06-.94-.94-2.06-.94 2.06-2.06.94zm-11 1L8.5 8.5l.94-2.06 2.06-.94-2.06-.94L8.5 2.5l-.94 2.06-2.06.94zm10 10l.94 2.06.94-2.06 2.06-.94-2.06-.94-.94-2.06-.94 2.06-2.06.94z\"/><path d=\"M17.41 7.96l-1.37-1.37c-.4-.4-.92-.59-1.43-.59-.52 0-1.04.2-1.43.59L10.3 9.45l-7.72 7.72c-.78.78-.78 2.05 0 2.83L4 21.41c.39.39.9.59 1.41.59.51 0 1.02-.2 1.41-.59l7.78-7.78 2.81-2.81c.8-.78.8-2.07 0-2.86zM5.41 20L4 18.59l7.72-7.72 1.47 1.35L5.41 20z\"/>\n",
              "  </svg>\n",
              "      </button>\n",
              "      \n",
              "  <style>\n",
              "    .colab-df-container {\n",
              "      display:flex;\n",
              "      flex-wrap:wrap;\n",
              "      gap: 12px;\n",
              "    }\n",
              "\n",
              "    .colab-df-convert {\n",
              "      background-color: #E8F0FE;\n",
              "      border: none;\n",
              "      border-radius: 50%;\n",
              "      cursor: pointer;\n",
              "      display: none;\n",
              "      fill: #1967D2;\n",
              "      height: 32px;\n",
              "      padding: 0 0 0 0;\n",
              "      width: 32px;\n",
              "    }\n",
              "\n",
              "    .colab-df-convert:hover {\n",
              "      background-color: #E2EBFA;\n",
              "      box-shadow: 0px 1px 2px rgba(60, 64, 67, 0.3), 0px 1px 3px 1px rgba(60, 64, 67, 0.15);\n",
              "      fill: #174EA6;\n",
              "    }\n",
              "\n",
              "    [theme=dark] .colab-df-convert {\n",
              "      background-color: #3B4455;\n",
              "      fill: #D2E3FC;\n",
              "    }\n",
              "\n",
              "    [theme=dark] .colab-df-convert:hover {\n",
              "      background-color: #434B5C;\n",
              "      box-shadow: 0px 1px 3px 1px rgba(0, 0, 0, 0.15);\n",
              "      filter: drop-shadow(0px 1px 2px rgba(0, 0, 0, 0.3));\n",
              "      fill: #FFFFFF;\n",
              "    }\n",
              "  </style>\n",
              "\n",
              "      <script>\n",
              "        const buttonEl =\n",
              "          document.querySelector('#df-c67c258b-a7fb-4d45-a836-dbbb8f455403 button.colab-df-convert');\n",
              "        buttonEl.style.display =\n",
              "          google.colab.kernel.accessAllowed ? 'block' : 'none';\n",
              "\n",
              "        async function convertToInteractive(key) {\n",
              "          const element = document.querySelector('#df-c67c258b-a7fb-4d45-a836-dbbb8f455403');\n",
              "          const dataTable =\n",
              "            await google.colab.kernel.invokeFunction('convertToInteractive',\n",
              "                                                     [key], {});\n",
              "          if (!dataTable) return;\n",
              "\n",
              "          const docLinkHtml = 'Like what you see? Visit the ' +\n",
              "            '<a target=\"_blank\" href=https://colab.research.google.com/notebooks/data_table.ipynb>data table notebook</a>'\n",
              "            + ' to learn more about interactive tables.';\n",
              "          element.innerHTML = '';\n",
              "          dataTable['output_type'] = 'display_data';\n",
              "          await google.colab.output.renderOutput(dataTable, element);\n",
              "          const docLink = document.createElement('div');\n",
              "          docLink.innerHTML = docLinkHtml;\n",
              "          element.appendChild(docLink);\n",
              "        }\n",
              "      </script>\n",
              "    </div>\n",
              "  </div>\n",
              "  "
            ],
            "text/plain": [
              "    eid      name  gender department  age  height  weight   gpa   salary  \\\n",
              "0  E011      Anda  female  developer   39     166    53.8  3.02  64200.0   \n",
              "1  E012    Bordin    male  developer   25     179    78.4  2.39  48700.0   \n",
              "2  E013  Chantana  female  developer   29     171    70.2  3.02  45500.0   \n",
              "3  E014   Donlaya  female  marketing   39     154    66.5  3.21  72600.0   \n",
              "4  E015   Ekkasit    male  marketing   37     177    66.4  3.33  80500.0   \n",
              "5  E016    Fundee  female    support   35     156    75.6  2.38  56600.0   \n",
              "6  E017   Gitiwit    male    support   26     175    69.7  3.25  42400.0   \n",
              "7  E018     Harit    male     devops   32     180    67.5  3.45  67700.0   \n",
              "\n",
              "   working_years  car_park birth_place  \n",
              "0              4      True     Bangkok  \n",
              "1              2      True      Phuket  \n",
              "2              3     False    Chonburi  \n",
              "3              8     False    Chonburi  \n",
              "4              7      True  Suphanburi  \n",
              "5              3     False      Phuket  \n",
              "6              2     False  Suphanburi  \n",
              "7              5      True     Bangkok  "
            ]
          },
          "execution_count": 1,
          "metadata": {},
          "output_type": "execute_result"
        }
      ],
      "source": []
    },
    {
      "cell_type": "markdown",
      "metadata": {
        "id": "eIsEIM72ZgRG"
      },
      "source": [
        "## Q3\n",
        "\n",
        "Display the first 3 rows of the dataframe.\n",
        "\n",
        "จงแสดงข้อมูล 3 บรรทัดแรกของตาราง"
      ]
    },
    {
      "cell_type": "code",
      "execution_count": null,
      "metadata": {
        "id": "EAxTPwFrZoaL"
      },
      "outputs": [],
      "source": []
    },
    {
      "cell_type": "markdown",
      "metadata": {
        "id": "saM-6zAEZolT"
      },
      "source": [
        "## Q4\n",
        "\n",
        "Display the last 3 rows of the dataframe.\n",
        "\n",
        "จงแสดงข้อมูล 3 บรรทัดสุดท้ายของตาราง"
      ]
    },
    {
      "cell_type": "code",
      "execution_count": null,
      "metadata": {
        "id": "8SrGuODsZ6Q8"
      },
      "outputs": [],
      "source": []
    },
    {
      "cell_type": "markdown",
      "metadata": {
        "id": "TgvE_XQZZ6ei"
      },
      "source": [
        "## Q5\n",
        "\n",
        "Display data only columns: name, gender, and birth_place.\n",
        "\n",
        "จงแสดงข้อมูลเฉพาะคอลัมน์ name, gender, และ birth_place"
      ]
    },
    {
      "cell_type": "code",
      "execution_count": null,
      "metadata": {
        "id": "jNVN3FDMZ_EQ"
      },
      "outputs": [],
      "source": []
    },
    {
      "cell_type": "markdown",
      "metadata": {
        "id": "1oR9tKv2Z_RP"
      },
      "source": [
        "## Q6\n",
        "\n",
        "Display data only the rows of Bordin, Fundee, and Harit.\n",
        "\n",
        "จงแสดงข้อมูลเฉพาะแถวของ Bordin, Fundee, และ Harit"
      ]
    },
    {
      "cell_type": "code",
      "execution_count": null,
      "metadata": {
        "id": "wGt_3sOjaD_o"
      },
      "outputs": [],
      "source": []
    },
    {
      "cell_type": "markdown",
      "metadata": {
        "id": "WXMrER0-aEJ3"
      },
      "source": [
        "## Q7\n",
        "\n",
        "Display the name and salary of employee IDs E014 and E017.\n",
        "\n",
        "จงแสดงเฉพาะ name และ salary ของพนักงานรหัส  E014 กับ E017"
      ]
    },
    {
      "cell_type": "code",
      "execution_count": null,
      "metadata": {
        "id": "7RCXhuNGaM-A"
      },
      "outputs": [],
      "source": []
    },
    {
      "cell_type": "markdown",
      "metadata": {
        "id": "Z3kR3IrQaNLo"
      },
      "source": [
        "## Q8\n",
        "\n",
        "Display only rows of ones who have a car park space.\n",
        "\n",
        "จงแสดงข้อมูลทั้งแถวเฉพาะผู้ที่ใช้ที่จอดรถ"
      ]
    },
    {
      "cell_type": "code",
      "execution_count": null,
      "metadata": {
        "id": "CvQ0yMfTaTXl"
      },
      "outputs": [],
      "source": []
    },
    {
      "cell_type": "markdown",
      "metadata": {
        "id": "5aalK3dvaThC"
      },
      "source": [
        "## Q9\n",
        "\n",
        "Display \"name\" of only womens having a car park space.\n",
        "\n",
        "จงแสดง \"ชื่อ\" ของผู้ที่ใช้ที่จอดรถ และเป็นผู้หญิง\n"
      ]
    },
    {
      "cell_type": "code",
      "execution_count": null,
      "metadata": {
        "id": "7M8TUM9NapCj"
      },
      "outputs": [],
      "source": []
    },
    {
      "cell_type": "markdown",
      "metadata": {
        "id": "VBDFvF4GaYcK"
      },
      "source": [
        "## Q10\n",
        "\n",
        "Display the salary of Ekkasit.\n",
        "\n",
        "จงแสดงเงินเดือนของ Ekkasit"
      ]
    },
    {
      "cell_type": "code",
      "execution_count": null,
      "metadata": {
        "id": "OaaYw3ZIaku3"
      },
      "outputs": [],
      "source": []
    },
    {
      "cell_type": "markdown",
      "metadata": {
        "id": "jlUFscexatBo"
      },
      "source": [
        "\n",
        "\n",
        "---\n",
        "https://rathachai.creatier.pro/\n",
        "\n",
        "## つづく"
      ]
    }
  ],
  "metadata": {
    "colab": {
      "provenance": []
    },
    "kernelspec": {
      "display_name": "Python 3",
      "name": "python3"
    },
    "language_info": {
      "name": "python"
    }
  },
  "nbformat": 4,
  "nbformat_minor": 0
}
